{
 "cells": [
  {
   "cell_type": "code",
   "execution_count": 1,
   "id": "77ffbe67",
   "metadata": {},
   "outputs": [],
   "source": [
    "import tensorflow as tf\n",
    "from sklearn.preprocessing import StandardScaler\n",
    "import numpy as np\n",
    "from sklearn.metrics import root_mean_squared_error\n",
    "import matplotlib.pyplot as plt"
   ]
  },
  {
   "cell_type": "code",
   "execution_count": 2,
   "id": "d01ffbc9",
   "metadata": {},
   "outputs": [],
   "source": [
    "import os\n",
    "os.chdir('..')\n",
    "\n",
    "from layer import Dense\n",
    "from activation import ReLU, Linear\n",
    "from loss import RootMeanSquareError\n",
    "from model import Sequential\n",
    "from optimizer import SGD"
   ]
  },
  {
   "cell_type": "code",
   "execution_count": 3,
   "id": "548085cd",
   "metadata": {},
   "outputs": [
    {
     "data": {
      "text/plain": [
       "((16512, 8), (4128, 8), (16512,), (4128,))"
      ]
     },
     "execution_count": 3,
     "metadata": {},
     "output_type": "execute_result"
    }
   ],
   "source": [
    "(X_train, y_train), (X_test, y_test) = tf.keras.datasets.california_housing.load_data()\n",
    "X_train.shape, X_test.shape, y_train.shape, y_test.shape"
   ]
  },
  {
   "cell_type": "code",
   "execution_count": 4,
   "id": "981a9a00",
   "metadata": {},
   "outputs": [
    {
     "data": {
      "text/plain": [
       "((16512, 8), (4128, 8), (16512, 1), (4128, 1))"
      ]
     },
     "execution_count": 4,
     "metadata": {},
     "output_type": "execute_result"
    }
   ],
   "source": [
    "feature_transformer = StandardScaler().fit(X_train)\n",
    "label_transformer = StandardScaler().fit(y_train.reshape(-1, 1))\n",
    "X_train = feature_transformer.transform(X_train)\n",
    "X_test = feature_transformer.transform(X_test)\n",
    "y_train = label_transformer.transform(y_train.reshape(-1, 1))\n",
    "y_test = label_transformer.transform(y_test.reshape(-1, 1))\n",
    "X_train.shape, X_test.shape, y_train.shape, y_test.shape"
   ]
  },
  {
   "cell_type": "code",
   "execution_count": 5,
   "id": "9b0eed4c",
   "metadata": {},
   "outputs": [
    {
     "data": {
      "text/plain": [
       "[<matplotlib.lines.Line2D at 0x3244e69d0>]"
      ]
     },
     "execution_count": 5,
     "metadata": {},
     "output_type": "execute_result"
    },
    {
     "data": {
      "image/png": "[encoded data removed]",
      "text/plain": [
       "<Figure size 640x480 with 1 Axes>"
      ]
     },
     "metadata": {},
     "output_type": "display_data"
    }
   ],
   "source": [
    "model = Sequential()\n",
    "model.add(Dense(X_train.shape[1], 64, ReLU()))\n",
    "model.add(Dense(64, 32, ReLU()))\n",
    "model.add(Dense(32, 1, Linear()))\n",
    "\n",
    "optimizer = SGD(learning_rate=0.01)\n",
    "loss_func = RootMeanSquareError()\n",
    "\n",
    "loss_history = []\n",
    "\n",
    "batch_size = 32\n",
    "for epoch in range(100):\n",
    "    for i in range(0, len(X_train), batch_size):\n",
    "        batch_features = X_train[i:i + batch_size]\n",
    "        batch_labels = y_train[i:i + batch_size]\n",
    "\n",
    "        batch_preds = model(batch_features)\n",
    "\n",
    "        loss = loss_func.loss(batch_preds, batch_labels)\n",
    "        grads = loss_func.derivative(batch_preds, batch_labels)\n",
    "\n",
    "        model.backward(grads)\n",
    "\n",
    "        optimizer.step(model)\n",
    "\n",
    "    loss_history.append(loss)\n",
    "    # print(f'Epoch {epoch + 1}, loss: {loss}')\n",
    "\n",
    "plt.plot(loss_history)"
   ]
  },
  {
   "cell_type": "code",
   "execution_count": 6,
   "id": "fc61a2b5",
   "metadata": {},
   "outputs": [
    {
     "data": {
      "text/plain": [
       "53652.30184016874"
      ]
     },
     "execution_count": 6,
     "metadata": {},
     "output_type": "execute_result"
    }
   ],
   "source": [
    "y_pred = label_transformer.inverse_transform(model(X_test))\n",
    "y_test = label_transformer.inverse_transform(y_test)\n",
    "root_mean_squared_error(y_pred, y_test)"
   ]
  }
 ],
 "metadata": {
  "kernelspec": {
   "display_name": "env",
   "language": "python",
   "name": "python3"
  },
  "language_info": {
   "codemirror_mode": {
    "name": "ipython",
    "version": 3
   },
   "file_extension": ".py",
   "mimetype": "text/x-python",
   "name": "python",
   "nbconvert_exporter": "python",
   "pygments_lexer": "ipython3",
   "version": "3.11.13"
  }
 },
 "nbformat": 4,
 "nbformat_minor": 5
}
